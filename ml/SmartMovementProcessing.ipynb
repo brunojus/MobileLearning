{
 "cells": [
  {
   "cell_type": "code",
   "execution_count": 1,
   "metadata": {
    "collapsed": true
   },
   "outputs": [],
   "source": [
    "import tensorflow as tf\n",
    "import pandas as pd\n",
    "import datetime\n",
    "from pandas_profiling import ProfileReport"
   ]
  },
  {
   "cell_type": "code",
   "execution_count": 3,
   "outputs": [],
   "source": [
    "# Read movement data, this could be from several locations like S3 buckets\n",
    "movements = pd.read_csv(\"../data/SmartMovementExport.csv\")"
   ],
   "metadata": {
    "collapsed": false,
    "pycharm": {
     "name": "#%%\n"
    }
   }
  },
  {
   "cell_type": "code",
   "execution_count": 4,
   "outputs": [
    {
     "data": {
      "text/plain": "                           id   acceloX   acceloY   acceloZ  userAcceloX  \\\n0  2020-11-14 22:18:31.510956 -2.109356  2.882707  9.466963     0.218186   \n1  2020-11-14 22:18:31.558048 -2.109356  2.882707  9.466963     0.676335   \n2  2020-11-14 22:18:31.558393 -2.109356  2.882707  9.466963     0.676335   \n3  2020-11-14 22:18:31.558616 -3.510007  1.884294  9.316123     0.676335   \n4  2020-11-14 22:18:31.669076 -3.510007  1.884294  9.316123     0.676335   \n\n   userAcceloY  userAcceloZ     gyroX     gyroY     gyroZ  lightSensor  locked  \n0     0.537032     0.203292 -0.711324 -0.419993  0.339640            8       0  \n1     0.776491     0.463521 -0.711324 -0.419993  0.339640            8       0  \n2     0.776491     0.463521 -1.693300 -1.869679  0.440446            8       0  \n3     0.776491     0.463521 -1.693300 -1.869679  0.440446            8       0  \n4     0.776491     0.463521 -1.693300 -1.869679  0.440446            7       0  ",
      "text/html": "<div>\n<style scoped>\n    .dataframe tbody tr th:only-of-type {\n        vertical-align: middle;\n    }\n\n    .dataframe tbody tr th {\n        vertical-align: top;\n    }\n\n    .dataframe thead th {\n        text-align: right;\n    }\n</style>\n<table border=\"1\" class=\"dataframe\">\n  <thead>\n    <tr style=\"text-align: right;\">\n      <th></th>\n      <th>id</th>\n      <th>acceloX</th>\n      <th>acceloY</th>\n      <th>acceloZ</th>\n      <th>userAcceloX</th>\n      <th>userAcceloY</th>\n      <th>userAcceloZ</th>\n      <th>gyroX</th>\n      <th>gyroY</th>\n      <th>gyroZ</th>\n      <th>lightSensor</th>\n      <th>locked</th>\n    </tr>\n  </thead>\n  <tbody>\n    <tr>\n      <th>0</th>\n      <td>2020-11-14 22:18:31.510956</td>\n      <td>-2.109356</td>\n      <td>2.882707</td>\n      <td>9.466963</td>\n      <td>0.218186</td>\n      <td>0.537032</td>\n      <td>0.203292</td>\n      <td>-0.711324</td>\n      <td>-0.419993</td>\n      <td>0.339640</td>\n      <td>8</td>\n      <td>0</td>\n    </tr>\n    <tr>\n      <th>1</th>\n      <td>2020-11-14 22:18:31.558048</td>\n      <td>-2.109356</td>\n      <td>2.882707</td>\n      <td>9.466963</td>\n      <td>0.676335</td>\n      <td>0.776491</td>\n      <td>0.463521</td>\n      <td>-0.711324</td>\n      <td>-0.419993</td>\n      <td>0.339640</td>\n      <td>8</td>\n      <td>0</td>\n    </tr>\n    <tr>\n      <th>2</th>\n      <td>2020-11-14 22:18:31.558393</td>\n      <td>-2.109356</td>\n      <td>2.882707</td>\n      <td>9.466963</td>\n      <td>0.676335</td>\n      <td>0.776491</td>\n      <td>0.463521</td>\n      <td>-1.693300</td>\n      <td>-1.869679</td>\n      <td>0.440446</td>\n      <td>8</td>\n      <td>0</td>\n    </tr>\n    <tr>\n      <th>3</th>\n      <td>2020-11-14 22:18:31.558616</td>\n      <td>-3.510007</td>\n      <td>1.884294</td>\n      <td>9.316123</td>\n      <td>0.676335</td>\n      <td>0.776491</td>\n      <td>0.463521</td>\n      <td>-1.693300</td>\n      <td>-1.869679</td>\n      <td>0.440446</td>\n      <td>8</td>\n      <td>0</td>\n    </tr>\n    <tr>\n      <th>4</th>\n      <td>2020-11-14 22:18:31.669076</td>\n      <td>-3.510007</td>\n      <td>1.884294</td>\n      <td>9.316123</td>\n      <td>0.676335</td>\n      <td>0.776491</td>\n      <td>0.463521</td>\n      <td>-1.693300</td>\n      <td>-1.869679</td>\n      <td>0.440446</td>\n      <td>7</td>\n      <td>0</td>\n    </tr>\n  </tbody>\n</table>\n</div>"
     },
     "execution_count": 4,
     "metadata": {},
     "output_type": "execute_result"
    }
   ],
   "source": [
    "movements.head()"
   ],
   "metadata": {
    "collapsed": false,
    "pycharm": {
     "name": "#%%\n"
    }
   }
  },
  {
   "cell_type": "code",
   "execution_count": 3,
   "outputs": [
    {
     "data": {
      "text/plain": "    Timepoint  Longitude   Latitude  AcceloX  AcceloY  AcceloZ  GyroX  GyroY  \\\n0  1594410747  52.516235  13.377372        0      0.5      0.5   -1.0      0   \n1  1594411000  52.516255  13.376530        0      0.6      0.6   -1.0      0   \n2  1594411100  52.516094  13.373927        0      0.7      0.7   -1.0      0   \n3  1594412000  52.515999  13.372479        0      0.8      0.8   -0.8      0   \n4  1594421000  52.515891  13.370706        0      0.9      0.9   -0.6      0   \n\n   GyroZ  Lux  Unlocked  \n0      0    0         0  \n1      0    0         0  \n2      0    0         0  \n3      0    0         0  \n4      0    6         0  ",
      "text/html": "<div>\n<style scoped>\n    .dataframe tbody tr th:only-of-type {\n        vertical-align: middle;\n    }\n\n    .dataframe tbody tr th {\n        vertical-align: top;\n    }\n\n    .dataframe thead th {\n        text-align: right;\n    }\n</style>\n<table border=\"1\" class=\"dataframe\">\n  <thead>\n    <tr style=\"text-align: right;\">\n      <th></th>\n      <th>Timepoint</th>\n      <th>Longitude</th>\n      <th>Latitude</th>\n      <th>AcceloX</th>\n      <th>AcceloY</th>\n      <th>AcceloZ</th>\n      <th>GyroX</th>\n      <th>GyroY</th>\n      <th>GyroZ</th>\n      <th>Lux</th>\n      <th>Unlocked</th>\n    </tr>\n  </thead>\n  <tbody>\n    <tr>\n      <th>0</th>\n      <td>1594410747</td>\n      <td>52.516235</td>\n      <td>13.377372</td>\n      <td>0</td>\n      <td>0.5</td>\n      <td>0.5</td>\n      <td>-1.0</td>\n      <td>0</td>\n      <td>0</td>\n      <td>0</td>\n      <td>0</td>\n    </tr>\n    <tr>\n      <th>1</th>\n      <td>1594411000</td>\n      <td>52.516255</td>\n      <td>13.376530</td>\n      <td>0</td>\n      <td>0.6</td>\n      <td>0.6</td>\n      <td>-1.0</td>\n      <td>0</td>\n      <td>0</td>\n      <td>0</td>\n      <td>0</td>\n    </tr>\n    <tr>\n      <th>2</th>\n      <td>1594411100</td>\n      <td>52.516094</td>\n      <td>13.373927</td>\n      <td>0</td>\n      <td>0.7</td>\n      <td>0.7</td>\n      <td>-1.0</td>\n      <td>0</td>\n      <td>0</td>\n      <td>0</td>\n      <td>0</td>\n    </tr>\n    <tr>\n      <th>3</th>\n      <td>1594412000</td>\n      <td>52.515999</td>\n      <td>13.372479</td>\n      <td>0</td>\n      <td>0.8</td>\n      <td>0.8</td>\n      <td>-0.8</td>\n      <td>0</td>\n      <td>0</td>\n      <td>0</td>\n      <td>0</td>\n    </tr>\n    <tr>\n      <th>4</th>\n      <td>1594421000</td>\n      <td>52.515891</td>\n      <td>13.370706</td>\n      <td>0</td>\n      <td>0.9</td>\n      <td>0.9</td>\n      <td>-0.6</td>\n      <td>0</td>\n      <td>0</td>\n      <td>6</td>\n      <td>0</td>\n    </tr>\n  </tbody>\n</table>\n</div>"
     },
     "execution_count": 3,
     "metadata": {},
     "output_type": "execute_result"
    }
   ],
   "source": [],
   "metadata": {
    "collapsed": false,
    "pycharm": {
     "name": "#%%\n"
    }
   }
  },
  {
   "cell_type": "code",
   "execution_count": 5,
   "outputs": [],
   "source": [
    "CSV_COLUMN_NAMES = ['id', 'acceloX', 'acceloY', 'acceloZ', 'userAcceloX', 'userAcceloY','userAcceloZ', 'gyroX', 'gyroY', 'gyroZ', 'lightSensot', 'locked']"
   ],
   "metadata": {
    "collapsed": false,
    "pycharm": {
     "name": "#%%\n"
    }
   }
  },
  {
   "cell_type": "code",
   "execution_count": 6,
   "outputs": [],
   "source": [
    "from sklearn.model_selection import train_test_split\n",
    "X_train, X_test, y_train, y_test = train_test_split(movements, movements['locked'], test_size=0.33, random_state=42)"
   ],
   "metadata": {
    "collapsed": false,
    "pycharm": {
     "name": "#%%\n"
    }
   }
  },
  {
   "cell_type": "markdown",
   "source": [
    "Explore the smart movement data with PandasProfiling\n"
   ],
   "metadata": {
    "collapsed": false
   }
  },
  {
   "cell_type": "code",
   "execution_count": 7,
   "outputs": [],
   "source": [
    "profile = ProfileReport(movements, title=\"Pandas Profiling Report\")\n",
    "\n"
   ],
   "metadata": {
    "collapsed": false,
    "pycharm": {
     "name": "#%%\n"
    }
   }
  },
  {
   "cell_type": "code",
   "execution_count": 8,
   "outputs": [
    {
     "name": "stderr",
     "output_type": "stream",
     "text": [
      "Summarize dataset: 100%|██████████| 26/26 [00:15<00:00,  1.69it/s, Completed]                     \n",
      "Generate report structure: 100%|██████████| 1/1 [00:03<00:00,  3.08s/it]\n",
      "                                                             \r"
     ]
    },
    {
     "data": {
      "text/plain": "VBox(children=(Tab(children=(Tab(children=(GridBox(children=(VBox(children=(GridspecLayout(children=(HTML(valu…",
      "application/vnd.jupyter.widget-view+json": {
       "version_major": 2,
       "version_minor": 0,
       "model_id": "2ba008f3fdfc412892c48a9432da7215"
      }
     },
     "metadata": {},
     "output_type": "display_data"
    }
   ],
   "source": [
    "profile.to_widgets()\n"
   ],
   "metadata": {
    "collapsed": false,
    "pycharm": {
     "name": "#%%\n"
    }
   }
  },
  {
   "cell_type": "code",
   "execution_count": null,
   "outputs": [],
   "source": [],
   "metadata": {
    "collapsed": false,
    "pycharm": {
     "name": "#%%\n"
    }
   }
  }
 ],
 "metadata": {
  "kernelspec": {
   "name": "python37564bitdlconda834e6164dbbb4afea080772fdc8d91c1",
   "language": "python",
   "display_name": "Python 3.7.5 64-bit ('dl': conda)"
  },
  "language_info": {
   "codemirror_mode": {
    "name": "ipython",
    "version": 2
   },
   "file_extension": ".py",
   "mimetype": "text/x-python",
   "name": "python",
   "nbconvert_exporter": "python",
   "pygments_lexer": "ipython2",
   "version": "2.7.6"
  }
 },
 "nbformat": 4,
 "nbformat_minor": 0
}